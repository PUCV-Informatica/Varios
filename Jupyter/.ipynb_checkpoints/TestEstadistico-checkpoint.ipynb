{
 "cells": [
  {
   "cell_type": "code",
   "execution_count": 169,
   "metadata": {
    "jupyter": {
     "source_hidden": true
    }
   },
   "outputs": [],
   "source": [
    "from scipy.stats import shapiro\n",
    "from scipy.stats import kstest\n",
    "\n",
    "from scipy.stats import mannwhitneyu\n",
    "\n",
    "import matplotlib.pyplot as plt\n",
    "\n",
    "\n",
    "def cleanOutlier(data):\n",
    "    \n",
    "    data = np.sort(data)\n",
    "    Q1 = np.percentile(data, 25, interpolation = 'midpoint')  \n",
    "    Q3 = np.percentile(data, 75, interpolation = 'midpoint')  \n",
    "    IQR = (Q3-Q1)\n",
    "    low = Q1 - 1.5 * IQR \n",
    "    upper = Q3 + 1.5 * IQR \n",
    "    \n",
    "    dataNew =[] \n",
    "    for x in data: \n",
    "        if ~ ((x> upper) or (x<low)): \n",
    "             dataNew.append(x) \n",
    "    return dataNew"
   ]
  },
  {
   "cell_type": "markdown",
   "metadata": {},
   "source": [
    "###  Limpiamos outliers"
   ]
  },
  {
   "cell_type": "markdown",
   "metadata": {},
   "source": [
    "```\n",
    "    IQR = Q3-Q1\n",
    "    limInf = Q1-1.5*IQR\n",
    "    limSup = Q3+1.5*IQR\n",
    "```"
   ]
  },
  {
   "cell_type": "code",
   "execution_count": 236,
   "metadata": {},
   "outputs": [
    {
     "name": "stdout",
     "output_type": "stream",
     "text": [
      "N data 1: 30 N data 2: 27\n"
     ]
    }
   ],
   "source": [
    "data1 = [69,71,70,69,74,70,70,69,69,69,70,69,69,69,69,69,69,69,69,69,69,69,69,69,69,69,71,71,70,69,69]\n",
    "data2 = [69,69,73,85,69,70,71,68,69,70,70,70,70,71,69,70,70,69,69,69,69,69,70,85,83,69,70,69,69,69,69]\n",
    "\n",
    "data1 = cleanOutlier(data1)\n",
    "data2 = cleanOutlier(data2)\n",
    "\n",
    "print(f'N data 1: {len(data1)} N data 2: {len(data2)}')"
   ]
  },
  {
   "cell_type": "markdown",
   "metadata": {},
   "source": [
    "### Normalidad (Shapiro y Kolmogorov)\n",
    "\n",
    "```\n",
    "    Ho:  Los datos siguen distribución normal\n",
    "    H1:  Los datos no siguen distribución normal\n",
    "    \n",
    "    Si p < 0.05 rechazamos Ho, por lo que datos no siguen distribución normal.\n",
    "```"
   ]
  },
  {
   "cell_type": "code",
   "execution_count": 237,
   "metadata": {},
   "outputs": [
    {
     "name": "stdout",
     "output_type": "stream",
     "text": [
      "-------------------------------------------------------------------------\n",
      "Shapiro-Wilk Test\n",
      "data 1 NO SIGUE distribución normal (p-value = 5.8176986783564644e-08)\n",
      "data 2 NO SIGUE distribución normal (p-value = 0.00015404709847643971)\n",
      "-------------------------------------------------------------------------\n",
      "Kolmogorov smirnov Test\n",
      "data 1 NO SIGUE distribución normal (p-value = 0.0)\n",
      "data 2 NO SIGUE distribución normal (p-value = 0.0)\n"
     ]
    }
   ],
   "source": [
    "shap_p1 = shapiro(data1)[1]\n",
    "shap_p2 = shapiro(data2)[1]\n",
    "\n",
    "ks_p1 = kstest(data1,'norm')[1]\n",
    "ks_p2 = kstest(data2,'norm')[1]\n",
    "\n",
    "print(\"-------------------------------------------------------------------------\")\n",
    "\n",
    "print('Shapiro-Wilk Test')\n",
    "if shap_p1 < 0.05:\n",
    "    print(f'data 1 NO SIGUE distribución normal (p-value = {shap_p1})')\n",
    "else:\n",
    "    print(f'data 1 SIGUE distribución normal (p-value = {shap_p1})')\n",
    "\n",
    "if shap_p2 < 0.05:\n",
    "    print(f'data 2 NO SIGUE distribución normal (p-value = {shap_p2})')\n",
    "else:\n",
    "    print(f'data 2 SIGUE distribución normal (p-value = {shap_p2})')\n",
    "\n",
    "\n",
    "print(\"-------------------------------------------------------------------------\")\n",
    "print('Kolmogorov smirnov Test')\n",
    "\n",
    "if ks_p1 < 0.05:\n",
    "    print(f'data 1 NO SIGUE distribución normal (p-value = {ks_p1})')\n",
    "else:\n",
    "    print(f'data 1 SIGUE distribución normal (p-value = {ks_p1})')\n",
    "\n",
    "if ks_p2 < 0.05:\n",
    "    print(f'data 2 NO SIGUE distribución normal (p-value = {ks_p2})')\n",
    "else:\n",
    "    print(f'data 2 SIGUE distribución normal (p-value = {ks_p2})')"
   ]
  },
  {
   "cell_type": "markdown",
   "metadata": {},
   "source": [
    "### Wilcoxon Mann Whitney\n",
    "\n",
    "Con el mejor fitness de cada corrida:\n",
    "```\n",
    "    Ho: Algoritmo A peor que Algoritmo B \n",
    "    H1: Algoritmo A es mejor que Algoritmo B\n",
    "    \n",
    "    Si p < 0.05 rechazamos Ho, por lo que algoritmo A es mejor que B.\n",
    "```"
   ]
  },
  {
   "cell_type": "code",
   "execution_count": 238,
   "metadata": {
    "jupyter": {
     "source_hidden": true
    }
   },
   "outputs": [
    {
     "name": "stdout",
     "output_type": "stream",
     "text": [
      "El Algoritmo A ES PEOR que el algoritmo B (p-value = 0.24159114313110058)\n"
     ]
    }
   ],
   "source": [
    "mw_p = mannwhitneyu(data1,data2)[1]\n",
    "\n",
    "if mw_p < 0.05:\n",
    "    print(f'El Algoritmo A ES MEJOR que el algoritmo B (p-value = {mw_p})')\n",
    "else:\n",
    "    print(f'El Algoritmo A ES PEOR que el algoritmo B (p-value = {mw_p})')"
   ]
  }
 ],
 "metadata": {
  "kernelspec": {
   "display_name": "Python 3",
   "language": "python",
   "name": "python3"
  },
  "language_info": {
   "codemirror_mode": {
    "name": "ipython",
    "version": 3
   },
   "file_extension": ".py",
   "mimetype": "text/x-python",
   "name": "python",
   "nbconvert_exporter": "python",
   "pygments_lexer": "ipython3",
   "version": "3.8.6"
  }
 },
 "nbformat": 4,
 "nbformat_minor": 4
}
