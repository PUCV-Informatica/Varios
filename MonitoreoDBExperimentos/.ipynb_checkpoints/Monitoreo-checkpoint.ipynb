{
 "cells": [
  {
   "cell_type": "code",
   "execution_count": null,
   "metadata": {},
   "outputs": [
    {
     "name": "stdout",
     "output_type": "stream",
     "text": [
      "Requirement already satisfied: envs in /opt/conda/lib/python3.8/site-packages (1.3)\n"
     ]
    }
   ],
   "source": [
    "!pip install envs\n",
    "!pip install python-dotenv\n",
    "!pip install psycopg2-binary\n",
    "from utils.Metadata import Metadata\n",
    "from utils.Database import Database\n",
    "\n",
    "import pandas as pd\n",
    "import matplotlib.pyplot as plt\n",
    "import math \n",
    "plt.style.use('ggplot')"
   ]
  },
  {
   "cell_type": "code",
   "execution_count": null,
   "metadata": {},
   "outputs": [],
   "source": [
    "meta = Metadata()\n",
    "db = Database()\n",
    "\n",
    "dfOpt = meta.dfOptimos()"
   ]
  },
  {
   "cell_type": "code",
   "execution_count": null,
   "metadata": {},
   "outputs": [],
   "source": [
    "dfEjec = meta.dfEjecuciones(db.getEjecuciones())\n",
    "dfEjec = dfEjec.merge(dfOpt,how='left',on='instance').set_index(['id_ejec'])\n",
    "dfRes = meta.dfResultados(db.getEjecucionesResultados())"
   ]
  },
  {
   "cell_type": "code",
   "execution_count": null,
   "metadata": {},
   "outputs": [],
   "source": [
    "tabla = dfEjec.reset_index().merge(dfRes,how='left',on='id_ejec')"
   ]
  },
  {
   "cell_type": "code",
   "execution_count": null,
   "metadata": {},
   "outputs": [],
   "source": [
    "jerarquia = ['GWO_SCP_BCL1_CPU_C','GWO_SCP_QL1_CPU_C','ANTHHGWO_SCP_FERO_CPU_C','ANTHHGWO_SCP_QL1_CPU_C']\n",
    "tabla[\"algorithm\"] = pd.Categorical(tabla[\"algorithm\"],jerarquia)"
   ]
  },
  {
   "cell_type": "code",
   "execution_count": null,
   "metadata": {},
   "outputs": [],
   "source": [
    "dfEjec.reset_index().groupby(['algorithm','instance','status'])['id_ejec'].count().\\\n",
    "                                                        to_frame().\\\n",
    "                                                        reset_index().\\\n",
    "pivot(index=['algorithm','instance'],columns='status',values='id_ejec')"
   ]
  },
  {
   "cell_type": "code",
   "execution_count": null,
   "metadata": {},
   "outputs": [],
   "source": [
    "tabla.query(\"status in ('terminado')\").reset_index().groupby(['algorithm','instance']).agg({'optimo':['min'],'fitness':['max','min','mean','median'],'id_ejec':['count']})"
   ]
  },
  {
   "cell_type": "code",
   "execution_count": null,
   "metadata": {},
   "outputs": [],
   "source": [
    "for instance in tabla.instance.unique():\n",
    "    data = tabla.query(\"instance == @instance\")[['algorithm','fitness']]\n",
    "    data.boxplot(by=['algorithm'],column='fitness')\n",
    "    plt.suptitle(f'Boxplot for instance {instance}')\n",
    "    plt.title('')\n",
    "    plt.show()"
   ]
  },
  {
   "cell_type": "code",
   "execution_count": null,
   "metadata": {},
   "outputs": [],
   "source": []
  }
 ],
 "metadata": {
  "kernelspec": {
   "display_name": "Python 3",
   "language": "python",
   "name": "python3"
  },
  "language_info": {
   "codemirror_mode": {
    "name": "ipython",
    "version": 3
   },
   "file_extension": ".py",
   "mimetype": "text/x-python",
   "name": "python",
   "nbconvert_exporter": "python",
   "pygments_lexer": "ipython3",
   "version": "3.8.6"
  }
 },
 "nbformat": 4,
 "nbformat_minor": 4
}
